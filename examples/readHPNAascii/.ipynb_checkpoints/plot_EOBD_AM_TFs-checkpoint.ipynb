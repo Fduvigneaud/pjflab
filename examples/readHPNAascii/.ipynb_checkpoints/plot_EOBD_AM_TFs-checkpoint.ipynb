{
 "cells": [
  {
   "cell_type": "code",
   "execution_count": 3,
   "metadata": {
    "collapsed": false
   },
   "outputs": [],
   "source": [
    "import pjflab_tools\n",
    "import pylab as pl\n",
    "\n",
    "%matplotlib inline"
   ]
  },
  {
   "cell_type": "code",
   "execution_count": 4,
   "metadata": {
    "collapsed": false
   },
   "outputs": [
    {
     "ename": "NameError",
     "evalue": "name 'pjf_lab' is not defined",
     "output_type": "error",
     "traceback": [
      "\u001b[0;31m---------------------------------------------------------------------------\u001b[0m",
      "\u001b[0;31mNameError\u001b[0m                                 Traceback (most recent call last)",
      "\u001b[0;32m<ipython-input-4-f7b6e800709b>\u001b[0m in \u001b[0;36m<module>\u001b[0;34m()\u001b[0m\n\u001b[0;32m----> 1\u001b[0;31m \u001b[0mmydata\u001b[0m\u001b[0;34m=\u001b[0m\u001b[0mpjf_lab\u001b[0m\u001b[0;34m.\u001b[0m\u001b[0mread_HPNA_ascii\u001b[0m\u001b[0;34m(\u001b[0m\u001b[0;34m'AM1.TXT'\u001b[0m\u001b[0;34m)\u001b[0m\u001b[0;34m\u001b[0m\u001b[0m\n\u001b[0m\u001b[1;32m      2\u001b[0m \u001b[0mmydata2\u001b[0m\u001b[0;34m=\u001b[0m\u001b[0mpjf_lab\u001b[0m\u001b[0;34m.\u001b[0m\u001b[0mread_HPNA_ascii\u001b[0m\u001b[0;34m(\u001b[0m\u001b[0;34m'NOLIGHT.TXT'\u001b[0m\u001b[0;34m)\u001b[0m\u001b[0;34m\u001b[0m\u001b[0m\n\u001b[1;32m      3\u001b[0m \u001b[0mmydata_check_single\u001b[0m\u001b[0;34m=\u001b[0m\u001b[0mpjf_lab\u001b[0m\u001b[0;34m.\u001b[0m\u001b[0mread_HPNA_ascii\u001b[0m\u001b[0;34m(\u001b[0m\u001b[0;34m'AM1_nophase.TXT'\u001b[0m\u001b[0;34m)\u001b[0m\u001b[0;34m\u001b[0m\u001b[0m\n",
      "\u001b[0;31mNameError\u001b[0m: name 'pjf_lab' is not defined"
     ]
    }
   ],
   "source": [
    "mydata=pjf_lab.read_HPNA_ascii('AM1.TXT')\n",
    "mydata2=pjf_lab.read_HPNA_ascii('NOLIGHT.TXT')\n",
    "mydata_check_single=pjf_lab.read_HPNA_ascii('AM1_nophase.TXT')"
   ]
  },
  {
   "cell_type": "code",
   "execution_count": null,
   "metadata": {
    "collapsed": false
   },
   "outputs": [],
   "source": [
    "MHz = 1e-6\n",
    "\n",
    "pl.figure()\n",
    "pl.subplot(211)\n",
    "pl.plot(mydata[0].data[:,0]*MHz,mydata[0].data[:,1],label='Light')\n",
    "pl.plot(mydata2[0].data[:,0]*MHz,mydata2[0].data[:,1],label='No light')\n",
    "pl.ylabel('Magnitude [dB]')\n",
    "pl.title('EOBD drive to AM at REFL PD')\n",
    "pl.legend(loc=0)\n",
    "pl.grid()\n",
    "pl.subplot(212)\n",
    "pl.plot(mydata[1].data[:,0]*MHz,mydata[1].data[:,1])\n",
    "pl.plot(mydata2[1].data[:,0]*MHz,mydata2[1].data[:,1])\n",
    "pl.grid()\n",
    "pl.xlabel('Frequency [MHz]')\n",
    "pl.ylabel('Phase [deg]')\n",
    "pl.savefig('EOBD_drive_to_REFLPD_AM.pdf')\n"
   ]
  },
  {
   "cell_type": "code",
   "execution_count": null,
   "metadata": {
    "collapsed": true
   },
   "outputs": [],
   "source": []
  }
 ],
 "metadata": {
  "kernelspec": {
   "display_name": "Python 2",
   "language": "python",
   "name": "python2"
  },
  "language_info": {
   "codemirror_mode": {
    "name": "ipython",
    "version": 2
   },
   "file_extension": ".py",
   "mimetype": "text/x-python",
   "name": "python",
   "nbconvert_exporter": "python",
   "pygments_lexer": "ipython2",
   "version": "2.7.10"
  }
 },
 "nbformat": 4,
 "nbformat_minor": 0
}
